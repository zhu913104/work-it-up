{
<<<<<<< HEAD
 "cells": [],
 "metadata": {},
=======
 "cells": [
  {
   "cell_type": "code",
   "execution_count": 1,
   "metadata": {},
   "outputs": [
    {
     "name": "stderr",
     "output_type": "stream",
     "text": [
      "Using TensorFlow backend.\n",
      "/home/e530toadwei/.conda/envs/tensorflow_gpu/lib/python3.6/importlib/_bootstrap.py:219: RuntimeWarning: compiletime version 3.5 of module 'tensorflow.python.framework.fast_tensor_util' does not match runtime version 3.6\n",
      "  return f(*args, **kwds)\n"
     ]
    }
   ],
   "source": [
    "import numpy as np \n",
    "import pandas as pd\n",
    "from keras.utils import np_utils\n",
    "np.random.seed(10)"
   ]
  },
  {
   "cell_type": "code",
   "execution_count": 2,
   "metadata": {
    "collapsed": true
   },
   "outputs": [],
   "source": [
    "from keras.datasets import mnist"
   ]
  },
  {
   "cell_type": "code",
   "execution_count": 3,
   "metadata": {
    "collapsed": true
   },
   "outputs": [],
   "source": [
    "(x_train_image,y_train_lable),(x_test_image,y_test_label)=mnist.load_data()"
   ]
  },
  {
   "cell_type": "code",
   "execution_count": 4,
   "metadata": {
    "collapsed": true
   },
   "outputs": [],
   "source": [
    "import matplotlib.pyplot as plt\n",
    "def plot_image(image,lable=None):\n",
    "    fig = plt.gcf()\n",
    "    fig.set_size_inches(2,2)\n",
    "    plt.imshow(image,cmap='binary')\n",
    "    plt.title(\"Class {}\".format(lable))\n",
    "    plt.show()"
   ]
  },
  {
   "cell_type": "code",
   "execution_count": 5,
   "metadata": {},
   "outputs": [
    {
     "data": {
      "image/png": "iVBORw0KGgoAAAANSUhEUgAAAJIAAACcCAYAAACUcfL+AAAABHNCSVQICAgIfAhkiAAAAAlwSFlz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\nThTcSE4U/gciEywk+YvdIwAAAABJRU5ErkJggg==\n",
      "text/plain": [
       "<matplotlib.figure.Figure at 0x7fa0b8555f98>"
      ]
     },
     "metadata": {},
     "output_type": "display_data"
    }
   ],
   "source": [
    "plot_image(x_train_image[0],y_train_lable[0])"
   ]
  },
  {
   "cell_type": "code",
   "execution_count": null,
   "metadata": {
    "collapsed": true
   },
   "outputs": [],
   "source": []
  },
  {
   "cell_type": "code",
   "execution_count": null,
   "metadata": {
    "collapsed": true
   },
   "outputs": [],
   "source": []
  }
 ],
 "metadata": {
  "kernelspec": {
   "display_name": "Python 3",
   "language": "python",
   "name": "python3"
  },
  "language_info": {
   "codemirror_mode": {
    "name": "ipython",
    "version": 3
   },
   "file_extension": ".py",
   "mimetype": "text/x-python",
   "name": "python",
   "nbconvert_exporter": "python",
   "pygments_lexer": "ipython3",
   "version": "3.6.3"
  }
 },
>>>>>>> c47cd396b293b2c9e213665384850348ffb0ab45
 "nbformat": 4,
 "nbformat_minor": 2
}
