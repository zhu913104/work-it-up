{
 "cells": [
  {
   "cell_type": "code",
   "execution_count": 1,
   "metadata": {},
   "outputs": [
    {
     "name": "stderr",
     "output_type": "stream",
     "text": [
      "Using TensorFlow backend.\n",
      "/home/e530toadwei/.conda/envs/tensorflow_gpu/lib/python3.6/importlib/_bootstrap.py:219: RuntimeWarning: compiletime version 3.5 of module 'tensorflow.python.framework.fast_tensor_util' does not match runtime version 3.6\n",
      "  return f(*args, **kwds)\n"
     ]
    }
   ],
   "source": [
    "from keras.datasets import mnist\n",
    "from keras.utils import np_utils\n",
    "from keras.models import Sequential\n",
    "from keras.layers import Dense,Dropout,Flatten,Conv2D,MaxPooling2D\n",
    "import numpy as np\n",
    "import pandas as pd"
   ]
  },
  {
   "cell_type": "code",
   "execution_count": 2,
   "metadata": {
    "collapsed": true
   },
   "outputs": [],
   "source": [
    "(x_train,y_train),(x_test,y_test)=mnist.load_data()"
   ]
  },
  {
   "cell_type": "code",
   "execution_count": 3,
   "metadata": {
    "collapsed": true
   },
   "outputs": [],
   "source": [
    "import matplotlib.pyplot as plt\n",
    "def plot_image_lables_prediction(images,lables,prediction,idx,num=10):\n",
    "    fig = plt.gcf()\n",
    "    fig.set_size_inches(12,14)\n",
    "    if num>25 :num=25\n",
    "    for i in range(0,num):\n",
    "        ax = plt.subplot(5,5,1+i)\n",
    "        ax.imshow(images[idx],cmap=\"binary\")\n",
    "        title = \"label=\"+str(lables[idx])\n",
    "        if len(prediction)>0:\n",
    "            title +=\",prediction=\"+str(prediction[idx])\n",
    "        ax.set_title(title,fontsize=10)\n",
    "        ax.set_xticks([]);ax.set_yticks([])\n",
    "\n",
    "        idx+=1\n",
    "    plt.show()"
   ]
  },
  {
   "cell_type": "code",
   "execution_count": 4,
   "metadata": {
    "collapsed": true
   },
   "outputs": [],
   "source": [
    "x_train4D=x_train.reshape(x_train.shape[0],28,28,1).astype(\"float32\")\n",
    "x_test4D=x_test.reshape(x_test.shape[0],28,28,1).astype(\"float32\")"
   ]
  },
  {
   "cell_type": "code",
   "execution_count": 5,
   "metadata": {},
   "outputs": [],
   "source": [
    "x_test4D_NL=x_test4D/255\n",
    "x_train4D_NL=x_train4D/255"
   ]
  },
  {
   "cell_type": "code",
   "execution_count": 6,
   "metadata": {
    "collapsed": true
   },
   "outputs": [],
   "source": [
    "y_train_OH=np_utils.to_categorical(y_train)\n",
    "y_test_OH=np_utils.to_categorical(y_test)"
   ]
  },
  {
   "cell_type": "code",
   "execution_count": 7,
   "metadata": {
    "collapsed": true
   },
   "outputs": [],
   "source": [
    "xx = Sequential()"
   ]
  },
  {
   "cell_type": "code",
   "execution_count": 8,
   "metadata": {
    "collapsed": true
   },
   "outputs": [],
   "source": [
    "xx=Sequential()"
   ]
  },
  {
   "cell_type": "code",
   "execution_count": 9,
   "metadata": {
    "collapsed": true
   },
   "outputs": [],
   "source": [
    "xx.add(Conv2D(filters=16,kernel_size=(5,5),padding='same',input_shape=(28,28,1),activation=\"relu\"))"
   ]
  },
  {
   "cell_type": "code",
   "execution_count": 10,
   "metadata": {
    "collapsed": true
   },
   "outputs": [],
   "source": [
    "xx.add(MaxPooling2D(pool_size=(2,2)))"
   ]
  },
  {
   "cell_type": "code",
   "execution_count": 11,
   "metadata": {
    "collapsed": true
   },
   "outputs": [],
   "source": [
    "xx.add(Conv2D(filters=36,kernel_size=(5,5),padding=\"same\",activation='relu'))"
   ]
  },
  {
   "cell_type": "code",
   "execution_count": 12,
   "metadata": {
    "collapsed": true
   },
   "outputs": [],
   "source": [
    "xx.add(MaxPooling2D(pool_size=(2,2)))"
   ]
  },
  {
   "cell_type": "code",
   "execution_count": 13,
   "metadata": {
    "collapsed": true
   },
   "outputs": [],
   "source": [
    "xx.add(Dropout(0.25))"
   ]
  },
  {
   "cell_type": "code",
   "execution_count": 14,
   "metadata": {
    "collapsed": true
   },
   "outputs": [],
   "source": [
    "xx.add(Flatten())"
   ]
  },
  {
   "cell_type": "code",
   "execution_count": 15,
   "metadata": {
    "collapsed": true
   },
   "outputs": [],
   "source": [
    "xx.add(Dense(128,activation='relu'))"
   ]
  },
  {
   "cell_type": "code",
   "execution_count": 16,
   "metadata": {
    "collapsed": true
   },
   "outputs": [],
   "source": [
    "xx.add(Dropout(0.5))"
   ]
  },
  {
   "cell_type": "markdown",
   "metadata": {},
   "source": []
  },
  {
   "cell_type": "code",
   "execution_count": 17,
   "metadata": {
    "collapsed": true
   },
   "outputs": [],
   "source": [
    "xx.add(Dense(10,activation='softmax'))"
   ]
  },
  {
   "cell_type": "code",
   "execution_count": 18,
   "metadata": {},
   "outputs": [
    {
     "name": "stdout",
     "output_type": "stream",
     "text": [
      "_________________________________________________________________\n",
      "Layer (type)                 Output Shape              Param #   \n",
      "=================================================================\n",
      "conv2d_1 (Conv2D)            (None, 28, 28, 16)        416       \n",
      "_________________________________________________________________\n",
      "max_pooling2d_1 (MaxPooling2 (None, 14, 14, 16)        0         \n",
      "_________________________________________________________________\n",
      "conv2d_2 (Conv2D)            (None, 14, 14, 36)        14436     \n",
      "_________________________________________________________________\n",
      "max_pooling2d_2 (MaxPooling2 (None, 7, 7, 36)          0         \n",
      "_________________________________________________________________\n",
      "dropout_1 (Dropout)          (None, 7, 7, 36)          0         \n",
      "_________________________________________________________________\n",
      "flatten_1 (Flatten)          (None, 1764)              0         \n",
      "_________________________________________________________________\n",
      "dense_1 (Dense)              (None, 128)               225920    \n",
      "_________________________________________________________________\n",
      "dropout_2 (Dropout)          (None, 128)               0         \n",
      "_________________________________________________________________\n",
      "dense_2 (Dense)              (None, 10)                1290      \n",
      "=================================================================\n",
      "Total params: 242,062\n",
      "Trainable params: 242,062\n",
      "Non-trainable params: 0\n",
      "_________________________________________________________________\n",
      "None\n"
     ]
    }
   ],
   "source": [
    "print(xx.summary())"
   ]
  },
  {
   "cell_type": "code",
   "execution_count": 19,
   "metadata": {
    "collapsed": true
   },
   "outputs": [],
   "source": [
    "xx.compile(loss=\"categorical_crossentropy\",optimizer='adam',metrics=['accuracy'])"
   ]
  },
  {
   "cell_type": "code",
   "execution_count": 32,
   "metadata": {
    "scrolled": false
   },
   "outputs": [
    {
     "name": "stdout",
     "output_type": "stream",
     "text": [
      "Train on 48000 samples, validate on 12000 samples\n",
      "Epoch 1/100\n",
      " - 1s - loss: 0.0376 - acc: 0.9885 - val_loss: 0.0304 - val_acc: 0.9913\n",
      "Epoch 2/100\n",
      " - 1s - loss: 0.0343 - acc: 0.9889 - val_loss: 0.0305 - val_acc: 0.9918\n",
      "Epoch 3/100\n",
      " - 1s - loss: 0.0318 - acc: 0.9906 - val_loss: 0.0302 - val_acc: 0.9909\n",
      "Epoch 4/100\n",
      " - 1s - loss: 0.0288 - acc: 0.9911 - val_loss: 0.0293 - val_acc: 0.9917\n",
      "Epoch 5/100\n",
      " - 1s - loss: 0.0268 - acc: 0.9916 - val_loss: 0.0303 - val_acc: 0.9908\n",
      "Epoch 6/100\n",
      " - 1s - loss: 0.0265 - acc: 0.9917 - val_loss: 0.0326 - val_acc: 0.9914\n",
      "Epoch 7/100\n",
      " - 1s - loss: 0.0251 - acc: 0.9920 - val_loss: 0.0286 - val_acc: 0.9916\n",
      "Epoch 8/100\n",
      " - 1s - loss: 0.0253 - acc: 0.9920 - val_loss: 0.0308 - val_acc: 0.9911\n",
      "Epoch 9/100\n",
      " - 1s - loss: 0.0221 - acc: 0.9927 - val_loss: 0.0301 - val_acc: 0.9917\n",
      "Epoch 10/100\n",
      " - 1s - loss: 0.0224 - acc: 0.9927 - val_loss: 0.0314 - val_acc: 0.9917\n",
      "Epoch 11/100\n",
      " - 1s - loss: 0.0221 - acc: 0.9927 - val_loss: 0.0296 - val_acc: 0.9920\n",
      "Epoch 12/100\n",
      " - 1s - loss: 0.0188 - acc: 0.9937 - val_loss: 0.0341 - val_acc: 0.9922\n",
      "Epoch 13/100\n",
      " - 1s - loss: 0.0198 - acc: 0.9937 - val_loss: 0.0332 - val_acc: 0.9913\n",
      "Epoch 14/100\n",
      " - 1s - loss: 0.0179 - acc: 0.9942 - val_loss: 0.0288 - val_acc: 0.9924\n",
      "Epoch 15/100\n",
      " - 1s - loss: 0.0175 - acc: 0.9941 - val_loss: 0.0287 - val_acc: 0.9924\n",
      "Epoch 16/100\n",
      " - 1s - loss: 0.0162 - acc: 0.9945 - val_loss: 0.0308 - val_acc: 0.9919\n",
      "Epoch 17/100\n",
      " - 1s - loss: 0.0149 - acc: 0.9947 - val_loss: 0.0327 - val_acc: 0.9918\n",
      "Epoch 18/100\n",
      " - 1s - loss: 0.0155 - acc: 0.9948 - val_loss: 0.0338 - val_acc: 0.9918\n",
      "Epoch 19/100\n",
      " - 1s - loss: 0.0170 - acc: 0.9946 - val_loss: 0.0304 - val_acc: 0.9922\n",
      "Epoch 20/100\n",
      " - 1s - loss: 0.0141 - acc: 0.9954 - val_loss: 0.0302 - val_acc: 0.9923\n",
      "Epoch 21/100\n",
      " - 1s - loss: 0.0150 - acc: 0.9950 - val_loss: 0.0306 - val_acc: 0.9922\n",
      "Epoch 22/100\n",
      " - 1s - loss: 0.0144 - acc: 0.9950 - val_loss: 0.0302 - val_acc: 0.9926\n",
      "Epoch 23/100\n",
      " - 1s - loss: 0.0133 - acc: 0.9956 - val_loss: 0.0310 - val_acc: 0.9926\n",
      "Epoch 24/100\n",
      " - 1s - loss: 0.0138 - acc: 0.9954 - val_loss: 0.0314 - val_acc: 0.9923\n",
      "Epoch 25/100\n",
      " - 1s - loss: 0.0116 - acc: 0.9962 - val_loss: 0.0325 - val_acc: 0.9923\n",
      "Epoch 26/100\n",
      " - 1s - loss: 0.0127 - acc: 0.9958 - val_loss: 0.0289 - val_acc: 0.9930\n",
      "Epoch 27/100\n",
      " - 1s - loss: 0.0124 - acc: 0.9957 - val_loss: 0.0302 - val_acc: 0.9928\n",
      "Epoch 28/100\n",
      " - 1s - loss: 0.0116 - acc: 0.9960 - val_loss: 0.0320 - val_acc: 0.9931\n",
      "Epoch 29/100\n",
      " - 1s - loss: 0.0105 - acc: 0.9963 - val_loss: 0.0334 - val_acc: 0.9922\n",
      "Epoch 30/100\n",
      " - 1s - loss: 0.0122 - acc: 0.9958 - val_loss: 0.0321 - val_acc: 0.9932\n",
      "Epoch 31/100\n",
      " - 1s - loss: 0.0122 - acc: 0.9957 - val_loss: 0.0332 - val_acc: 0.9920\n",
      "Epoch 32/100\n",
      " - 1s - loss: 0.0119 - acc: 0.9962 - val_loss: 0.0307 - val_acc: 0.9931\n",
      "Epoch 33/100\n",
      " - 1s - loss: 0.0087 - acc: 0.9969 - val_loss: 0.0323 - val_acc: 0.9927\n",
      "Epoch 34/100\n",
      " - 1s - loss: 0.0107 - acc: 0.9965 - val_loss: 0.0312 - val_acc: 0.9923\n",
      "Epoch 35/100\n",
      " - 1s - loss: 0.0096 - acc: 0.9965 - val_loss: 0.0299 - val_acc: 0.9927\n",
      "Epoch 36/100\n",
      " - 1s - loss: 0.0097 - acc: 0.9966 - val_loss: 0.0357 - val_acc: 0.9925\n",
      "Epoch 37/100\n",
      " - 1s - loss: 0.0117 - acc: 0.9961 - val_loss: 0.0311 - val_acc: 0.9930\n",
      "Epoch 38/100\n",
      " - 1s - loss: 0.0106 - acc: 0.9963 - val_loss: 0.0368 - val_acc: 0.9920\n",
      "Epoch 39/100\n",
      " - 1s - loss: 0.0098 - acc: 0.9967 - val_loss: 0.0303 - val_acc: 0.9929\n",
      "Epoch 40/100\n",
      " - 1s - loss: 0.0103 - acc: 0.9966 - val_loss: 0.0325 - val_acc: 0.9930\n",
      "Epoch 41/100\n",
      " - 1s - loss: 0.0099 - acc: 0.9967 - val_loss: 0.0307 - val_acc: 0.9935\n",
      "Epoch 42/100\n",
      " - 1s - loss: 0.0106 - acc: 0.9965 - val_loss: 0.0298 - val_acc: 0.9935\n",
      "Epoch 43/100\n",
      " - 1s - loss: 0.0095 - acc: 0.9964 - val_loss: 0.0356 - val_acc: 0.9930\n",
      "Epoch 44/100\n",
      " - 1s - loss: 0.0093 - acc: 0.9971 - val_loss: 0.0315 - val_acc: 0.9932\n",
      "Epoch 45/100\n",
      " - 1s - loss: 0.0099 - acc: 0.9968 - val_loss: 0.0283 - val_acc: 0.9933\n",
      "Epoch 46/100\n",
      " - 1s - loss: 0.0084 - acc: 0.9973 - val_loss: 0.0277 - val_acc: 0.9933\n",
      "Epoch 47/100\n",
      " - 1s - loss: 0.0081 - acc: 0.9971 - val_loss: 0.0327 - val_acc: 0.9928\n",
      "Epoch 48/100\n",
      " - 1s - loss: 0.0084 - acc: 0.9970 - val_loss: 0.0315 - val_acc: 0.9933\n",
      "Epoch 49/100\n",
      " - 1s - loss: 0.0082 - acc: 0.9972 - val_loss: 0.0361 - val_acc: 0.9923\n",
      "Epoch 50/100\n",
      " - 1s - loss: 0.0075 - acc: 0.9973 - val_loss: 0.0344 - val_acc: 0.9928\n",
      "Epoch 51/100\n",
      " - 1s - loss: 0.0072 - acc: 0.9975 - val_loss: 0.0341 - val_acc: 0.9932\n",
      "Epoch 52/100\n",
      " - 1s - loss: 0.0079 - acc: 0.9973 - val_loss: 0.0325 - val_acc: 0.9930\n",
      "Epoch 53/100\n",
      " - 1s - loss: 0.0085 - acc: 0.9970 - val_loss: 0.0347 - val_acc: 0.9935\n",
      "Epoch 54/100\n",
      " - 1s - loss: 0.0080 - acc: 0.9974 - val_loss: 0.0322 - val_acc: 0.9930\n",
      "Epoch 55/100\n",
      " - 1s - loss: 0.0069 - acc: 0.9976 - val_loss: 0.0334 - val_acc: 0.9933\n",
      "Epoch 56/100\n",
      " - 1s - loss: 0.0071 - acc: 0.9976 - val_loss: 0.0374 - val_acc: 0.9925\n",
      "Epoch 57/100\n",
      " - 1s - loss: 0.0071 - acc: 0.9973 - val_loss: 0.0338 - val_acc: 0.9928\n",
      "Epoch 58/100\n",
      " - 1s - loss: 0.0080 - acc: 0.9973 - val_loss: 0.0290 - val_acc: 0.9929\n",
      "Epoch 59/100\n",
      " - 1s - loss: 0.0070 - acc: 0.9976 - val_loss: 0.0283 - val_acc: 0.9928\n",
      "Epoch 60/100\n",
      " - 1s - loss: 0.0080 - acc: 0.9972 - val_loss: 0.0340 - val_acc: 0.9931\n",
      "Epoch 61/100\n",
      " - 1s - loss: 0.0080 - acc: 0.9973 - val_loss: 0.0379 - val_acc: 0.9922\n",
      "Epoch 62/100\n",
      " - 1s - loss: 0.0072 - acc: 0.9977 - val_loss: 0.0314 - val_acc: 0.9929\n",
      "Epoch 63/100\n",
      " - 1s - loss: 0.0076 - acc: 0.9976 - val_loss: 0.0337 - val_acc: 0.9928\n",
      "Epoch 64/100\n",
      " - 1s - loss: 0.0078 - acc: 0.9975 - val_loss: 0.0322 - val_acc: 0.9928\n",
      "Epoch 65/100\n",
      " - 1s - loss: 0.0057 - acc: 0.9980 - val_loss: 0.0358 - val_acc: 0.9923\n",
      "Epoch 66/100\n",
      " - 1s - loss: 0.0067 - acc: 0.9975 - val_loss: 0.0323 - val_acc: 0.9933\n",
      "Epoch 67/100\n",
      " - 1s - loss: 0.0053 - acc: 0.9983 - val_loss: 0.0330 - val_acc: 0.9933\n",
      "Epoch 68/100\n",
      " - 1s - loss: 0.0067 - acc: 0.9978 - val_loss: 0.0355 - val_acc: 0.9930\n",
      "Epoch 69/100\n",
      " - 1s - loss: 0.0078 - acc: 0.9971 - val_loss: 0.0331 - val_acc: 0.9924\n",
      "Epoch 70/100\n",
      " - 1s - loss: 0.0060 - acc: 0.9979 - val_loss: 0.0301 - val_acc: 0.9933\n",
      "Epoch 71/100\n",
      " - 1s - loss: 0.0060 - acc: 0.9980 - val_loss: 0.0356 - val_acc: 0.9931\n",
      "Epoch 72/100\n",
      " - 1s - loss: 0.0074 - acc: 0.9976 - val_loss: 0.0338 - val_acc: 0.9923\n",
      "Epoch 73/100\n",
      " - 1s - loss: 0.0069 - acc: 0.9978 - val_loss: 0.0342 - val_acc: 0.9924\n",
      "Epoch 74/100\n",
      " - 1s - loss: 0.0068 - acc: 0.9977 - val_loss: 0.0340 - val_acc: 0.9933\n",
      "Epoch 75/100\n",
      " - 1s - loss: 0.0064 - acc: 0.9978 - val_loss: 0.0346 - val_acc: 0.9928\n",
      "Epoch 76/100\n",
      " - 1s - loss: 0.0059 - acc: 0.9983 - val_loss: 0.0316 - val_acc: 0.9939\n",
      "Epoch 77/100\n",
      " - 1s - loss: 0.0066 - acc: 0.9977 - val_loss: 0.0327 - val_acc: 0.9931\n",
      "Epoch 78/100\n",
      " - 1s - loss: 0.0052 - acc: 0.9983 - val_loss: 0.0362 - val_acc: 0.9938\n",
      "Epoch 79/100\n",
      " - 1s - loss: 0.0057 - acc: 0.9979 - val_loss: 0.0358 - val_acc: 0.9928\n",
      "Epoch 80/100\n",
      " - 1s - loss: 0.0063 - acc: 0.9980 - val_loss: 0.0331 - val_acc: 0.9933\n",
      "Epoch 81/100\n",
      " - 1s - loss: 0.0060 - acc: 0.9980 - val_loss: 0.0382 - val_acc: 0.9926\n",
      "Epoch 82/100\n",
      " - 1s - loss: 0.0060 - acc: 0.9979 - val_loss: 0.0402 - val_acc: 0.9925\n",
      "Epoch 83/100\n",
      " - 1s - loss: 0.0058 - acc: 0.9980 - val_loss: 0.0360 - val_acc: 0.9936\n",
      "Epoch 84/100\n",
      " - 1s - loss: 0.0074 - acc: 0.9976 - val_loss: 0.0352 - val_acc: 0.9933\n",
      "Epoch 85/100\n",
      " - 1s - loss: 0.0065 - acc: 0.9976 - val_loss: 0.0356 - val_acc: 0.9928\n",
      "Epoch 86/100\n",
      " - 1s - loss: 0.0058 - acc: 0.9981 - val_loss: 0.0404 - val_acc: 0.9933\n",
      "Epoch 87/100\n",
      " - 1s - loss: 0.0050 - acc: 0.9984 - val_loss: 0.0345 - val_acc: 0.9937\n",
      "Epoch 88/100\n",
      " - 1s - loss: 0.0044 - acc: 0.9985 - val_loss: 0.0372 - val_acc: 0.9938\n",
      "Epoch 89/100\n",
      " - 1s - loss: 0.0064 - acc: 0.9979 - val_loss: 0.0336 - val_acc: 0.9936\n",
      "Epoch 90/100\n",
      " - 1s - loss: 0.0058 - acc: 0.9981 - val_loss: 0.0294 - val_acc: 0.9940\n",
      "Epoch 91/100\n",
      " - 1s - loss: 0.0062 - acc: 0.9979 - val_loss: 0.0354 - val_acc: 0.9935\n",
      "Epoch 92/100\n",
      " - 1s - loss: 0.0056 - acc: 0.9978 - val_loss: 0.0377 - val_acc: 0.9935\n",
      "Epoch 93/100\n",
      " - 1s - loss: 0.0068 - acc: 0.9978 - val_loss: 0.0302 - val_acc: 0.9935\n",
      "Epoch 94/100\n",
      " - 1s - loss: 0.0052 - acc: 0.9979 - val_loss: 0.0303 - val_acc: 0.9939\n",
      "Epoch 95/100\n",
      " - 1s - loss: 0.0059 - acc: 0.9979 - val_loss: 0.0318 - val_acc: 0.9932\n",
      "Epoch 96/100\n",
      " - 1s - loss: 0.0044 - acc: 0.9987 - val_loss: 0.0334 - val_acc: 0.9938\n"
     ]
    },
    {
     "name": "stdout",
     "output_type": "stream",
     "text": [
      "Epoch 97/100\n",
      " - 1s - loss: 0.0057 - acc: 0.9982 - val_loss: 0.0331 - val_acc: 0.9934\n",
      "Epoch 98/100\n",
      " - 1s - loss: 0.0054 - acc: 0.9983 - val_loss: 0.0320 - val_acc: 0.9938\n",
      "Epoch 99/100\n",
      " - 1s - loss: 0.0061 - acc: 0.9981 - val_loss: 0.0349 - val_acc: 0.9932\n",
      "Epoch 100/100\n",
      " - 1s - loss: 0.0056 - acc: 0.9979 - val_loss: 0.0313 - val_acc: 0.9936\n"
     ]
    }
   ],
   "source": [
    "train_history=xx.fit(x=x_train4D_NL,y=y_train_OH,validation_split=0.2,epochs=100,batch_size=300,verbose=2)"
   ]
  },
  {
   "cell_type": "code",
   "execution_count": 33,
   "metadata": {
    "collapsed": true
   },
   "outputs": [],
   "source": [
    "def show_train_history(train_history,train,validation):\n",
    "    plt.plot(train_history.history[train])\n",
    "    plt.plot(train_history.history[validation])\n",
    "    plt.title(\"Train History\")\n",
    "    plt.ylabel(train)\n",
    "    plt.xlabel('Epoch')\n",
    "    plt.legend(['train','validation'],loc='upper left')\n",
    "    plt.show()"
   ]
  },
  {
   "cell_type": "code",
   "execution_count": 34,
   "metadata": {},
   "outputs": [
    {
     "data": {
      "image/png": "[encoded data removed]",
      "text/plain": [
       "<matplotlib.figure.Figure at 0x7fe2a463fb70>"
      ]
     },
     "metadata": {},
     "output_type": "display_data"
    }
   ],
   "source": [
    "show_train_history(train_history,'acc','val_acc')"
   ]
  },
  {
   "cell_type": "code",
   "execution_count": 35,
   "metadata": {},
   "outputs": [
    {
     "data": {
      "image/png": "[encoded data removed]",
      "text/plain": [
       "<matplotlib.figure.Figure at 0x7fe2a4661eb8>"
      ]
     },
     "metadata": {},
     "output_type": "display_data"
    }
   ],
   "source": [
    "show_train_history(train_history,'loss','val_loss')"
   ]
  },
  {
   "cell_type": "code",
   "execution_count": 36,
   "metadata": {},
   "outputs": [
    {
     "name": "stdout",
     "output_type": "stream",
     "text": [
      "10000/10000 [==============================] - 0s 32us/step\n"
     ]
    }
   ],
   "source": [
    "scroes = xx.evaluate(x_test4D_NL,y_test_OH)\n"
   ]
  },
  {
   "cell_type": "code",
   "execution_count": 37,
   "metadata": {},
   "outputs": [
    {
     "name": "stdout",
     "output_type": "stream",
     "text": [
      "10000/10000 [==============================] - 0s 29us/step\n"
     ]
    }
   ],
   "source": [
    "prediction = xx.predict_classes(x_test4D_NL)"
   ]
  },
  {
   "cell_type": "code",
   "execution_count": 38,
   "metadata": {},
   "outputs": [
    {
     "data": {
      "text/plain": [
       "array([7, 2, 1, ..., 4, 5, 6])"
      ]
     },
     "execution_count": 38,
     "metadata": {},
     "output_type": "execute_result"
    }
   ],
   "source": [
    "prediction"
   ]
  },
  {
   "cell_type": "code",
   "execution_count": 39,
   "metadata": {},
   "outputs": [
    {
     "data": {
      "image/png": "[encoded data removed]",
      "text/plain": [
       "<matplotlib.figure.Figure at 0x7fe2a466a4e0>"
      ]
     },
     "metadata": {},
     "output_type": "display_data"
    }
   ],
   "source": [
    "plot_image_lables_prediction(x_test,y_test,prediction=prediction,idx=0)"
   ]
  },
  {
   "cell_type": "code",
   "execution_count": 40,
   "metadata": {},
   "outputs": [
    {
     "data": {
      "text/html": [
       "<div>\n",
       "<style>\n",
       "    .dataframe thead tr:only-child th {\n",
       "        text-align: right;\n",
       "    }\n",
       "\n",
       "    .dataframe thead th {\n",
       "        text-align: left;\n",
       "    }\n",
       "\n",
       "    .dataframe tbody tr th {\n",
       "        vertical-align: top;\n",
       "    }\n",
       "</style>\n",
       "<table border=\"1\" class=\"dataframe\">\n",
       "  <thead>\n",
       "    <tr style=\"text-align: right;\">\n",
       "      <th>predict</th>\n",
       "      <th>0</th>\n",
       "      <th>1</th>\n",
       "      <th>2</th>\n",
       "      <th>3</th>\n",
       "      <th>4</th>\n",
       "      <th>5</th>\n",
       "      <th>6</th>\n",
       "      <th>7</th>\n",
       "      <th>8</th>\n",
       "      <th>9</th>\n",
       "    </tr>\n",
       "    <tr>\n",
       "      <th>lable</th>\n",
       "      <th></th>\n",
       "      <th></th>\n",
       "      <th></th>\n",
       "      <th></th>\n",
       "      <th></th>\n",
       "      <th></th>\n",
       "      <th></th>\n",
       "      <th></th>\n",
       "      <th></th>\n",
       "      <th></th>\n",
       "    </tr>\n",
       "  </thead>\n",
       "  <tbody>\n",
       "    <tr>\n",
       "      <th>0</th>\n",
       "      <td>977</td>\n",
       "      <td>0</td>\n",
       "      <td>0</td>\n",
       "      <td>0</td>\n",
       "      <td>0</td>\n",
       "      <td>0</td>\n",
       "      <td>1</td>\n",
       "      <td>0</td>\n",
       "      <td>1</td>\n",
       "      <td>1</td>\n",
       "    </tr>\n",
       "    <tr>\n",
       "      <th>1</th>\n",
       "      <td>0</td>\n",
       "      <td>1133</td>\n",
       "      <td>0</td>\n",
       "      <td>1</td>\n",
       "      <td>0</td>\n",
       "      <td>0</td>\n",
       "      <td>0</td>\n",
       "      <td>0</td>\n",
       "      <td>1</td>\n",
       "      <td>0</td>\n",
       "    </tr>\n",
       "    <tr>\n",
       "      <th>2</th>\n",
       "      <td>0</td>\n",
       "      <td>1</td>\n",
       "      <td>1025</td>\n",
       "      <td>1</td>\n",
       "      <td>0</td>\n",
       "      <td>0</td>\n",
       "      <td>0</td>\n",
       "      <td>5</td>\n",
       "      <td>0</td>\n",
       "      <td>0</td>\n",
       "    </tr>\n",
       "    <tr>\n",
       "      <th>3</th>\n",
       "      <td>0</td>\n",
       "      <td>0</td>\n",
       "      <td>1</td>\n",
       "      <td>1006</td>\n",
       "      <td>0</td>\n",
       "      <td>2</td>\n",
       "      <td>0</td>\n",
       "      <td>0</td>\n",
       "      <td>1</td>\n",
       "      <td>0</td>\n",
       "    </tr>\n",
       "    <tr>\n",
       "      <th>4</th>\n",
       "      <td>0</td>\n",
       "      <td>0</td>\n",
       "      <td>0</td>\n",
       "      <td>0</td>\n",
       "      <td>979</td>\n",
       "      <td>0</td>\n",
       "      <td>0</td>\n",
       "      <td>1</td>\n",
       "      <td>0</td>\n",
       "      <td>2</td>\n",
       "    </tr>\n",
       "    <tr>\n",
       "      <th>5</th>\n",
       "      <td>0</td>\n",
       "      <td>0</td>\n",
       "      <td>0</td>\n",
       "      <td>7</td>\n",
       "      <td>0</td>\n",
       "      <td>883</td>\n",
       "      <td>1</td>\n",
       "      <td>0</td>\n",
       "      <td>1</td>\n",
       "      <td>0</td>\n",
       "    </tr>\n",
       "    <tr>\n",
       "      <th>6</th>\n",
       "      <td>3</td>\n",
       "      <td>2</td>\n",
       "      <td>0</td>\n",
       "      <td>0</td>\n",
       "      <td>2</td>\n",
       "      <td>2</td>\n",
       "      <td>948</td>\n",
       "      <td>0</td>\n",
       "      <td>1</td>\n",
       "      <td>0</td>\n",
       "    </tr>\n",
       "    <tr>\n",
       "      <th>7</th>\n",
       "      <td>0</td>\n",
       "      <td>0</td>\n",
       "      <td>0</td>\n",
       "      <td>0</td>\n",
       "      <td>0</td>\n",
       "      <td>0</td>\n",
       "      <td>0</td>\n",
       "      <td>1027</td>\n",
       "      <td>1</td>\n",
       "      <td>0</td>\n",
       "    </tr>\n",
       "    <tr>\n",
       "      <th>8</th>\n",
       "      <td>1</td>\n",
       "      <td>1</td>\n",
       "      <td>0</td>\n",
       "      <td>1</td>\n",
       "      <td>0</td>\n",
       "      <td>0</td>\n",
       "      <td>0</td>\n",
       "      <td>0</td>\n",
       "      <td>970</td>\n",
       "      <td>1</td>\n",
       "    </tr>\n",
       "    <tr>\n",
       "      <th>9</th>\n",
       "      <td>0</td>\n",
       "      <td>0</td>\n",
       "      <td>0</td>\n",
       "      <td>0</td>\n",
       "      <td>8</td>\n",
       "      <td>2</td>\n",
       "      <td>0</td>\n",
       "      <td>2</td>\n",
       "      <td>0</td>\n",
       "      <td>997</td>\n",
       "    </tr>\n",
       "  </tbody>\n",
       "</table>\n",
       "</div>"
      ],
      "text/plain": [
       "predict    0     1     2     3    4    5    6     7    8    9\n",
       "lable                                                        \n",
       "0        977     0     0     0    0    0    1     0    1    1\n",
       "1          0  1133     0     1    0    0    0     0    1    0\n",
       "2          0     1  1025     1    0    0    0     5    0    0\n",
       "3          0     0     1  1006    0    2    0     0    1    0\n",
       "4          0     0     0     0  979    0    0     1    0    2\n",
       "5          0     0     0     7    0  883    1     0    1    0\n",
       "6          3     2     0     0    2    2  948     0    1    0\n",
       "7          0     0     0     0    0    0    0  1027    1    0\n",
       "8          1     1     0     1    0    0    0     0  970    1\n",
       "9          0     0     0     0    8    2    0     2    0  997"
      ]
     },
     "execution_count": 40,
     "metadata": {},
     "output_type": "execute_result"
    }
   ],
   "source": [
    "pd.crosstab(y_test,prediction,rownames=[\"lable\"],colnames=[\"predict\"])"
   ]
  },
  {
   "cell_type": "code",
   "execution_count": 41,
   "metadata": {
    "collapsed": true
   },
   "outputs": [],
   "source": [
    "df = pd.DataFrame({'lable':y_test,\"prediction\":prediction})"
   ]
  },
  {
   "cell_type": "code",
   "execution_count": 44,
   "metadata": {},
   "outputs": [
    {
     "data": {
      "text/html": [
       "<div>\n",
       "<style>\n",
       "    .dataframe thead tr:only-child th {\n",
       "        text-align: right;\n",
       "    }\n",
       "\n",
       "    .dataframe thead th {\n",
       "        text-align: left;\n",
       "    }\n",
       "\n",
       "    .dataframe tbody tr th {\n",
       "        vertical-align: top;\n",
       "    }\n",
       "</style>\n",
       "<table border=\"1\" class=\"dataframe\">\n",
       "  <thead>\n",
       "    <tr style=\"text-align: right;\">\n",
       "      <th></th>\n",
       "      <th>lable</th>\n",
       "      <th>prediction</th>\n",
       "    </tr>\n",
       "  </thead>\n",
       "  <tbody>\n",
       "    <tr>\n",
       "      <th>321</th>\n",
       "      <td>2</td>\n",
       "      <td>7</td>\n",
       "    </tr>\n",
       "    <tr>\n",
       "      <th>1790</th>\n",
       "      <td>2</td>\n",
       "      <td>7</td>\n",
       "    </tr>\n",
       "    <tr>\n",
       "      <th>4176</th>\n",
       "      <td>2</td>\n",
       "      <td>7</td>\n",
       "    </tr>\n",
       "    <tr>\n",
       "      <th>9664</th>\n",
       "      <td>2</td>\n",
       "      <td>7</td>\n",
       "    </tr>\n",
       "    <tr>\n",
       "      <th>9839</th>\n",
       "      <td>2</td>\n",
       "      <td>7</td>\n",
       "    </tr>\n",
       "  </tbody>\n",
       "</table>\n",
       "</div>"
      ],
      "text/plain": [
       "      lable  prediction\n",
       "321       2           7\n",
       "1790      2           7\n",
       "4176      2           7\n",
       "9664      2           7\n",
       "9839      2           7"
      ]
     },
     "execution_count": 44,
     "metadata": {},
     "output_type": "execute_result"
    }
   ],
   "source": [
    "df[(df.lable==2)&(df.prediction==7)]"
   ]
  },
  {
   "cell_type": "code",
   "execution_count": 46,
   "metadata": {},
   "outputs": [
    {
     "data": {
      "image/png": "[encoded data removed]",
      "text/plain": [
       "<matplotlib.figure.Figure at 0x7fe2a42c4f98>"
      ]
     },
     "metadata": {},
     "output_type": "display_data"
    }
   ],
   "source": [
    "plot_image_lables_prediction(x_test,y_test,prediction,idx=4176,num=1)"
   ]
  },
  {
   "cell_type": "code",
   "execution_count": null,
   "metadata": {
    "collapsed": true
   },
   "outputs": [],
   "source": []
  },
  {
   "cell_type": "code",
   "execution_count": null,
   "metadata": {
    "collapsed": true
   },
   "outputs": [],
   "source": []
  }
 ],
 "metadata": {
  "kernelspec": {
   "display_name": "Python 3",
   "language": "python",
   "name": "python3"
  },
  "language_info": {
   "codemirror_mode": {
    "name": "ipython",
    "version": 3
   },
   "file_extension": ".py",
   "mimetype": "text/x-python",
   "name": "python",
   "nbconvert_exporter": "python",
   "pygments_lexer": "ipython3",
   "version": "3.6.3"
  }
 },
 "nbformat": 4,
 "nbformat_minor": 2
}
